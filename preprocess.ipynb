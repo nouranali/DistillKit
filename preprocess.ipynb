{
 "cells": [
  {
   "cell_type": "code",
   "execution_count": 1,
   "metadata": {},
   "outputs": [],
   "source": [
    "import json"
   ]
  },
  {
   "cell_type": "code",
   "execution_count": 2,
   "metadata": {},
   "outputs": [],
   "source": [
    "data_path= \"c:/Users/noura/OneDrive/Desktop/model_distillation/model_distillation/data/Sentences_file.json\""
   ]
  },
  {
   "cell_type": "code",
   "execution_count": 3,
   "metadata": {},
   "outputs": [],
   "source": [
    "with open(data_path, \"r\", encoding=\"utf-8\") as f:\n",
    "    raw_data = f.readlines()\n"
   ]
  },
  {
   "cell_type": "code",
   "execution_count": 4,
   "metadata": {},
   "outputs": [
    {
     "name": "stdout",
     "output_type": "stream",
     "text": [
      "{\"text\": \"سلام عليكم \\nمنصة \\nواقدر اخدم \",\"Sentiment\": \"neutral\"}\n"
     ]
    }
   ],
   "source": [
    "data = []\n",
    "for line in raw_data:\n",
    "    print(line[:-2])\n",
    "    break"
   ]
  },
  {
   "cell_type": "code",
   "execution_count": 8,
   "metadata": {},
   "outputs": [
    {
     "name": "stdout",
     "output_type": "stream",
     "text": [
      "{\"text\": \"العفو فمان الله معك تقييم يا مفيد \",\"Sentiment\": \"neutral\"}\n",
      "Conversion complete! Saved as qwen_sentiment_data.json.\n"
     ]
    }
   ],
   "source": [
    "qwen_data = []\n",
    "\n",
    "for entry in raw_data:\n",
    "    try:\n",
    "        entry = json.loads(entry[:-2])\n",
    "        conversation = {\n",
    "            \"messages\": [\n",
    "                {\"role\": \"system\", \"content\": \"You are a helpful AI assistant trained for sentiment analysis.\"},\n",
    "                {\"role\": \"user\", \"content\": f\"What is the sentiment of this text? \\\"{entry['text']}\\\"\"},\n",
    "                {\"role\": \"assistant\", \"content\": f\"The sentiment is {entry['Sentiment']}.\"}\n",
    "            ]\n",
    "        }\n",
    "        qwen_data.append(conversation)\n",
    "        # print(conversation)\n",
    "    except :\n",
    "        print(entry)\n",
    "\n",
    "# Save as JSON\n",
    "with open(\"qwen_sentiment_data.json\", \"w\", encoding=\"utf-8\") as f:\n",
    "    json.dump(qwen_data, f, ensure_ascii=False, indent=4)\n",
    "\n",
    "print(\"Conversion complete! Saved as qwen_sentiment_data.json.\")\n"
   ]
  },
  {
   "cell_type": "code",
   "execution_count": null,
   "metadata": {},
   "outputs": [],
   "source": []
  }
 ],
 "metadata": {
  "kernelspec": {
   "display_name": "distill_kit",
   "language": "python",
   "name": "python3"
  },
  "language_info": {
   "codemirror_mode": {
    "name": "ipython",
    "version": 3
   },
   "file_extension": ".py",
   "mimetype": "text/x-python",
   "name": "python",
   "nbconvert_exporter": "python",
   "pygments_lexer": "ipython3",
   "version": "3.13.2"
  }
 },
 "nbformat": 4,
 "nbformat_minor": 2
}
